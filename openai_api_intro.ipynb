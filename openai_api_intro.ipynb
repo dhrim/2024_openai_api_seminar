{
 "cells": [
  {
   "cell_type": "code",
   "execution_count": 2,
   "metadata": {},
   "outputs": [
    {
     "name": "stdout",
     "output_type": "stream",
     "text": [
      "Defaulting to user installation because normal site-packages is not writeable\n",
      "Collecting openai\n",
      "  Downloading openai-1.39.0-py3-none-any.whl (336 kB)\n",
      "\u001b[2K     \u001b[90m━━━━━━━━━━━━━━━━━━━━━━━━━━━━━━━━━━━━━━━\u001b[0m \u001b[32m336.7/336.7 KB\u001b[0m \u001b[31m4.3 MB/s\u001b[0m eta \u001b[36m0:00:00\u001b[0ma \u001b[36m0:00:01\u001b[0m\n",
      "\u001b[?25hRequirement already satisfied: typing-extensions<5,>=4.7 in /workspace/.pyenv_mirror/user/current/lib/python3.10/site-packages (from openai) (4.12.2)\n",
      "Collecting pydantic<3,>=1.9.0\n",
      "  Downloading pydantic-2.8.2-py3-none-any.whl (423 kB)\n",
      "\u001b[2K     \u001b[90m━━━━━━━━━━━━━━━━━━━━━━━━━━━━━━━━━━━━━━\u001b[0m \u001b[32m423.9/423.9 KB\u001b[0m \u001b[31m18.8 MB/s\u001b[0m eta \u001b[36m0:00:00\u001b[0m\n",
      "\u001b[?25hRequirement already satisfied: distro<2,>=1.7.0 in /usr/lib/python3/dist-packages (from openai) (1.7.0)\n",
      "Collecting tqdm>4\n",
      "  Downloading tqdm-4.66.5-py3-none-any.whl (78 kB)\n",
      "\u001b[2K     \u001b[90m━━━━━━━━━━━━━━━━━━━━━━━━━━━━━━━━━━━━━━━━\u001b[0m \u001b[32m78.4/78.4 KB\u001b[0m \u001b[31m40.3 MB/s\u001b[0m eta \u001b[36m0:00:00\u001b[0m\n",
      "\u001b[?25hCollecting httpx<1,>=0.23.0\n",
      "  Downloading httpx-0.27.0-py3-none-any.whl (75 kB)\n",
      "\u001b[2K     \u001b[90m━━━━━━━━━━━━━━━━━━━━━━━━━━━━━━━━━━━━━━━━\u001b[0m \u001b[32m75.6/75.6 KB\u001b[0m \u001b[31m38.5 MB/s\u001b[0m eta \u001b[36m0:00:00\u001b[0m\n",
      "\u001b[?25hCollecting sniffio\n",
      "  Downloading sniffio-1.3.1-py3-none-any.whl (10 kB)\n",
      "Collecting anyio<5,>=3.5.0\n",
      "  Downloading anyio-4.4.0-py3-none-any.whl (86 kB)\n",
      "\u001b[2K     \u001b[90m━━━━━━━━━━━━━━━━━━━━━━━━━━━━━━━━━━━━━━━━\u001b[0m \u001b[32m86.8/86.8 KB\u001b[0m \u001b[31m40.1 MB/s\u001b[0m eta \u001b[36m0:00:00\u001b[0m\n",
      "\u001b[?25hCollecting idna>=2.8\n",
      "  Downloading idna-3.7-py3-none-any.whl (66 kB)\n",
      "\u001b[2K     \u001b[90m━━━━━━━━━━━━━━━━━━━━━━━━━━━━━━━━━━━━━━━━\u001b[0m \u001b[32m66.8/66.8 KB\u001b[0m \u001b[31m34.3 MB/s\u001b[0m eta \u001b[36m0:00:00\u001b[0m\n",
      "\u001b[?25hRequirement already satisfied: exceptiongroup>=1.0.2 in /workspace/.pyenv_mirror/user/current/lib/python3.10/site-packages (from anyio<5,>=3.5.0->openai) (1.2.2)\n",
      "Collecting certifi\n",
      "  Downloading certifi-2024.7.4-py3-none-any.whl (162 kB)\n",
      "\u001b[2K     \u001b[90m━━━━━━━━━━━━━━━━━━━━━━━━━━━━━━━━━━━━━━\u001b[0m \u001b[32m163.0/163.0 KB\u001b[0m \u001b[31m73.2 MB/s\u001b[0m eta \u001b[36m0:00:00\u001b[0m\n",
      "\u001b[?25hCollecting httpcore==1.*\n",
      "  Downloading httpcore-1.0.5-py3-none-any.whl (77 kB)\n",
      "\u001b[2K     \u001b[90m━━━━━━━━━━━━━━━━━━━━━━━━━━━━━━━━━━━━━━━━\u001b[0m \u001b[32m77.9/77.9 KB\u001b[0m \u001b[31m38.4 MB/s\u001b[0m eta \u001b[36m0:00:00\u001b[0m\n",
      "\u001b[?25hCollecting h11<0.15,>=0.13\n",
      "  Downloading h11-0.14.0-py3-none-any.whl (58 kB)\n",
      "\u001b[2K     \u001b[90m━━━━━━━━━━━━━━━━━━━━━━━━━━━━━━━━━━━━━━━━\u001b[0m \u001b[32m58.3/58.3 KB\u001b[0m \u001b[31m32.5 MB/s\u001b[0m eta \u001b[36m0:00:00\u001b[0m\n",
      "\u001b[?25hCollecting pydantic-core==2.20.1\n",
      "  Downloading pydantic_core-2.20.1-cp310-cp310-manylinux_2_17_x86_64.manylinux2014_x86_64.whl (2.1 MB)\n",
      "\u001b[2K     \u001b[90m━━━━━━━━━━━━━━━━━━━━━━━━━━━━━━━━━━━━━━━━\u001b[0m \u001b[32m2.1/2.1 MB\u001b[0m \u001b[31m51.6 MB/s\u001b[0m eta \u001b[36m0:00:00\u001b[0m00:01\u001b[0m\n",
      "\u001b[?25hCollecting annotated-types>=0.4.0\n",
      "  Downloading annotated_types-0.7.0-py3-none-any.whl (13 kB)\n",
      "Installing collected packages: tqdm, sniffio, pydantic-core, idna, h11, certifi, annotated-types, pydantic, httpcore, anyio, httpx, openai\n",
      "Successfully installed annotated-types-0.7.0 anyio-4.4.0 certifi-2024.7.4 h11-0.14.0 httpcore-1.0.5 httpx-0.27.0 idna-3.7 openai-1.39.0 pydantic-2.8.2 pydantic-core-2.20.1 sniffio-1.3.1 tqdm-4.66.5\n"
     ]
    }
   ],
   "source": [
    "!pip install openai"
   ]
  },
  {
   "cell_type": "code",
   "execution_count": 3,
   "metadata": {},
   "outputs": [],
   "source": [
    "from openai import OpenAI\n",
    "import os"
   ]
  },
  {
   "cell_type": "code",
   "execution_count": 4,
   "metadata": {},
   "outputs": [],
   "source": [
    "client = OpenAI(api_key=\"\")"
   ]
  },
  {
   "cell_type": "markdown",
   "metadata": {},
   "source": [
    "# 기본 호출"
   ]
  },
  {
   "cell_type": "code",
   "execution_count": 5,
   "metadata": {},
   "outputs": [
    {
     "name": "stdout",
     "output_type": "stream",
     "text": [
      "에어컨을 틀어서 시원하게 지내세요. 물을 많이 마셔 수분을 보충하는 것도 중요해요.\n"
     ]
    }
   ],
   "source": [
    "MODEL = \"gpt-3.5-turbo\"\n",
    "response = client.chat.completions.create(\n",
    "    model=MODEL,\n",
    "    messages=[\n",
    "        {\"role\": \"user\", \"content\": \"날씨가 더워요\"},\n",
    "    ],\n",
    ")\n",
    "\n",
    "print(response.choices[0].message.content)"
   ]
  },
  {
   "cell_type": "markdown",
   "metadata": {},
   "source": [
    "# Prompt 사용"
   ]
  },
  {
   "cell_type": "code",
   "execution_count": 17,
   "metadata": {},
   "outputs": [
    {
     "name": "stdout",
     "output_type": "stream",
     "text": [
      "The weather is hot.\n"
     ]
    }
   ],
   "source": [
    "MODEL = \"gpt-3.5-turbo\"\n",
    "response = client.chat.completions.create(\n",
    "    model=MODEL,\n",
    "    messages=[\n",
    "        {\"role\": \"system\", \"content\": \"너는 영어 번역가야.\"},        \n",
    "        {\"role\": \"user\", \"content\": \"날씨가 더워요\"},\n",
    "    ],\n",
    ")\n",
    "\n",
    "print(response.choices[0].message.content)"
   ]
  },
  {
   "cell_type": "code",
   "execution_count": 7,
   "metadata": {},
   "outputs": [
    {
     "name": "stdout",
     "output_type": "stream",
     "text": [
      "더운 날씨에는 빌딩 내부 온도를 적절히 조절해야 합니다. 에어컨이나 환풍 시스템을 적절히 작동시켜서 거주자들이 편안하게 머무를 수 있도록 도와주세요. 또한, 빌딩 주변에 나무를 심거나 현관에 그늘을 만들어주는 차양 시설을 마련하여 빌딩 주변 환경을 쾌적하게 유지하는 것도 중요합니다. 에너지 소비를 줄이기 위해 효율적인 시스템을 구비하고 주기적인 유지보수를 실시하는 것도 잊지마세요.\n"
     ]
    }
   ],
   "source": [
    "MODEL = \"gpt-3.5-turbo\"\n",
    "response = client.chat.completions.create(\n",
    "    model=MODEL,\n",
    "    messages=[\n",
    "        {\"role\": \"system\", \"content\": \"너는 빌딩 관리인이야.\"},        \n",
    "        {\"role\": \"user\", \"content\": \"날씨가 더워요\"},\n",
    "    ],\n",
    ")\n",
    "\n",
    "print(response.choices[0].message.content)"
   ]
  },
  {
   "cell_type": "code",
   "execution_count": 23,
   "metadata": {},
   "outputs": [
    {
     "name": "stdout",
     "output_type": "stream",
     "text": [
      "더워서 힘들겠죠. 물을 충분히 섭취하고, 가벼운 옷차림을 유의해야 해요. 에어컨이나 선풍기를 켜 놓고, 무더운 시간대에는 실외 활동을 자제하는 것도 좋아요. 더위 조심하세요.\n"
     ]
    }
   ],
   "source": [
    "MODEL = \"gpt-3.5-turbo\"\n",
    "response = client.chat.completions.create(\n",
    "    model=MODEL,\n",
    "    messages=[\n",
    "        {\"role\": \"system\", \"content\": \"너는 친절한 상담사야.\"},        \n",
    "        {\"role\": \"user\", \"content\": \"날씨가 더워요\"},\n",
    "    ],\n",
    ")\n",
    "\n",
    "print(response.choices[0].message.content)"
   ]
  },
  {
   "cell_type": "code",
   "execution_count": 8,
   "metadata": {},
   "outputs": [
    {
     "name": "stdout",
     "output_type": "stream",
     "text": [
      "더운데 왜 더위를 피하려고 하시는 건가요? 더위를 피하려면 더위를 만들어야죠! 함께 더위를 만들어보는 건 어떨까요? (뻘쭘)\n"
     ]
    }
   ],
   "source": [
    "MODEL = \"gpt-3.5-turbo\"\n",
    "response = client.chat.completions.create(\n",
    "    model=MODEL,\n",
    "    messages=[\n",
    "        {\"role\": \"system\", \"content\": \"너는 개그맨이야.\"},        \n",
    "        {\"role\": \"user\", \"content\": \"날씨가 더워요\"},\n",
    "    ],\n",
    ")\n",
    "\n",
    "print(response.choices[0].message.content)"
   ]
  },
  {
   "cell_type": "markdown",
   "metadata": {},
   "source": [
    "# Prompt From Example\n",
    "\n",
    "https://platform.openai.com/docs/examples"
   ]
  },
  {
   "cell_type": "markdown",
   "metadata": {},
   "source": [
    "## Meeting notes summarizer"
   ]
  },
  {
   "cell_type": "code",
   "execution_count": 9,
   "metadata": {},
   "outputs": [
    {
     "name": "stdout",
     "output_type": "stream",
     "text": [
      "Overall summary of discussion:\n",
      "- The team discussed the recent mission to Planet Zog and agreed to improve language skills for better communication with the Zogians.\n",
      "- They addressed the space pirate issue in Sector 7 and planned to increase patrols while developing new cloaking technology to avoid detection.\n",
      "- The team celebrated their success in the Intergalactic Bake-Off and began planning for the upcoming charity fundraiser with creative booth ideas.\n",
      "- They also discussed a team-building retreat to the Moon Resort and Spa to bond and relax.\n",
      "\n",
      "Action items:\n",
      "- Dr. Quasar will work on the Zogian-English dictionary and finalize the cloaking technology prototype.\n",
      "- Captain Stardust will speak with Admiral Starbeam about increasing patrols in Sector 7 and check the budget for the team-building retreat.\n",
      "- All team members will start gathering supplies and preparing games for the Intergalactic Charity Bazaar.\n",
      "\n",
      "Topics for further discussion in the next meeting:\n",
      "- Update on the Zogian-English dictionary progress.\n",
      "- Progress report on the cloaking technology development.\n",
      "- Results of increased patrols in Sector 7.\n",
      "- Final preparations for the Intergalactic Charity Bazaar.\n"
     ]
    }
   ],
   "source": [
    "prompt = \"\"\"\n",
    "You will be provided with meeting notes, and your task is to summarize the meeting as follows:\n",
    "    \n",
    "    -Overall summary of discussion\n",
    "    -Action items (what needs to be done and who is doing it)\n",
    "    -If applicable, a list of topics that need to be discussed more fully in the next meeting.\n",
    "    \n",
    "not md. just text.    \n",
    "\"\"\"\n",
    "user_message = \"\"\"\n",
    "\n",
    "Meeting Date: March 5th, 2050\n",
    "    Meeting Time: 2:00 PM\n",
    "    Location: Conference Room 3B, Intergalactic Headquarters\n",
    "    \n",
    "    Attendees:\n",
    "    - Captain Stardust\n",
    "    - Dr. Quasar\n",
    "    - Lady Nebula\n",
    "    - Sir Supernova\n",
    "    - Ms. Comet\n",
    "    \n",
    "    Meeting called to order by Captain Stardust at 2:05 PM\n",
    "    \n",
    "    1. Introductions and welcome to our newest team member, Ms. Comet\n",
    "    \n",
    "    2. Discussion of our recent mission to Planet Zog\n",
    "    - Captain Stardust: \"Overall, a success, but communication with the Zogians was difficult. We need to improve our language skills.\"\n",
    "    - Dr. Quasar: \"Agreed. I'll start working on a Zogian-English dictionary right away.\"\n",
    "    - Lady Nebula: \"The Zogian food was out of this world, literally! We should consider having a Zogian food night on the ship.\"\n",
    "    \n",
    "    3. Addressing the space pirate issue in Sector 7\n",
    "    - Sir Supernova: \"We need a better strategy for dealing with these pirates. They've already plundered three cargo ships this month.\"\n",
    "    - Captain Stardust: \"I'll speak with Admiral Starbeam about increasing patrols in that area.\n",
    "    - Dr. Quasar: \"I've been working on a new cloaking technology that could help our ships avoid detection by the pirates. I'll need a few more weeks to finalize the prototype.\"\n",
    "    \n",
    "    4. Review of the annual Intergalactic Bake-Off\n",
    "    - Lady Nebula: \"I'm happy to report that our team placed second in the competition! Our Martian Mud Pie was a big hit!\"\n",
    "    - Ms. Comet: \"Let's aim for first place next year. I have a secret recipe for Jupiter Jello that I think could be a winner.\"\n",
    "    \n",
    "    5. Planning for the upcoming charity fundraiser\n",
    "    - Captain Stardust: \"We need some creative ideas for our booth at the Intergalactic Charity Bazaar.\"\n",
    "    - Sir Supernova: \"How about a 'Dunk the Alien' game? We can have people throw water balloons at a volunteer dressed as an alien.\"\n",
    "    - Dr. Quasar: \"I can set up a 'Name That Star' trivia game with prizes for the winners.\"\n",
    "    - Lady Nebula: \"Great ideas, everyone. Let's start gathering the supplies and preparing the games.\"\n",
    "    \n",
    "    6. Upcoming team-building retreat\n",
    "    - Ms. Comet: \"I would like to propose a team-building retreat to the Moon Resort and Spa. It's a great opportunity to bond and relax after our recent missions.\"\n",
    "    - Captain Stardust: \"Sounds like a fantastic idea. I'll check the budget and see if we can make it happen.\"\n",
    "    \n",
    "    7. Next meeting agenda items\n",
    "    - Update on the Zogian-English dictionary (Dr. Quasar)\n",
    "    - Progress report on the cloaking technology (Dr. Quasar)\n",
    "    - Results of increased patrols in Sector 7 (Captain Stardust)\n",
    "    - Final preparations for the Intergalactic Charity Bazaar (All)\n",
    "    \n",
    "    Meeting adjourned at 3:15 PM. Next meeting scheduled for March 19th, 2050 at 2:00 PM in Conference Room 3B, Intergalactic Headquarters.\n",
    "\"\"\"\n",
    "\n",
    "MODEL = \"gpt-3.5-turbo\"\n",
    "response = client.chat.completions.create(\n",
    "    model=MODEL,\n",
    "    messages=[\n",
    "        {\"role\": \"system\", \"content\": prompt },\n",
    "        {\"role\": \"user\", \"content\": user_message },\n",
    "    ],\n",
    ")\n",
    "\n",
    "print(response.choices[0].message.content)\n"
   ]
  },
  {
   "cell_type": "markdown",
   "metadata": {},
   "source": [
    "# 문맥"
   ]
  },
  {
   "cell_type": "code",
   "execution_count": 10,
   "metadata": {},
   "outputs": [
    {
     "name": "stdout",
     "output_type": "stream",
     "text": [
      "1 + 2 = 3\n"
     ]
    }
   ],
   "source": [
    "MODEL = \"gpt-3.5-turbo\"\n",
    "response = client.chat.completions.create(\n",
    "    model=MODEL,\n",
    "    messages=[\n",
    "        {\"role\": \"system\", \"content\": \"계산기로 동작해 줘.\"},\n",
    "        {\"role\": \"user\", \"content\": \"1+2\"},\n",
    "    ],\n",
    ")\n",
    "\n",
    "print(response.choices[0].message.content)"
   ]
  },
  {
   "cell_type": "code",
   "execution_count": 12,
   "metadata": {},
   "outputs": [
    {
     "name": "stdout",
     "output_type": "stream",
     "text": [
      "3 + 4 = 7\n"
     ]
    }
   ],
   "source": [
    "MODEL = \"gpt-3.5-turbo\"\n",
    "response = client.chat.completions.create(\n",
    "    model=MODEL,\n",
    "    messages=[\n",
    "        {\"role\": \"system\", \"content\": \"계산기로 동작해 줘.\"},\n",
    "        {\"role\": \"user\", \"content\": \"1+2\"},\n",
    "        {\"role\": \"assistant\", \"content\": \"1 + 2 = 3\"},\n",
    "        {\"role\": \"user\", \"content\": \"+4\"},\n",
    "    ],\n",
    ")\n",
    "\n",
    "print(response.choices[0].message.content)"
   ]
  },
  {
   "cell_type": "markdown",
   "metadata": {},
   "source": [
    "# Tiny Chatbot"
   ]
  },
  {
   "cell_type": "code",
   "execution_count": 38,
   "metadata": {},
   "outputs": [
    {
     "name": "stdout",
     "output_type": "stream",
     "text": [
      "하이\n",
      "안녕하세요! 무엇을 도와드릴까요? :)\n",
      "날씨가 더워졌어.\n",
      "그렇죠, 요즘엔 날씨가 더워지는 트렌드가 있는 것 같아요. 더위에 주의해서 건강하고 시원하게 보내시길 바랍니다! 필요하신 정보나 도움이 있으시면 언제든지 말씀해주세요. 함께 대화 나눠요! :)\n",
      "내일 날씨는?\n",
      "죄송하지만, 저는 실시간 정보를 제공할 수 없습니다. 날씨 상황이나 예보는 지역에 따라 다를 수 있으므로, 지역에 맞는 기상정보 사이트나 앱을 이용하시는 것을 권장드립니다. 제가 도와드릴 수 있는 다른 정보나 질문이 있으면 자유롭게 말씀해주세요! :)\n",
      "exit\n"
     ]
    }
   ],
   "source": [
    "messages = []\n",
    "\n",
    "while True:\n",
    "    user_message = input()\n",
    "    print(user_message, flush=True)\n",
    "    if user_message==\"exit\": break\n",
    "    messages.append({\"role\":\"user\", \"content\":user_message})\n",
    "    response = client.chat.completions.create(\n",
    "        model=MODEL,\n",
    "        messages=messages,\n",
    "    )\n",
    "\n",
    "    system_message = response.choices[0].message.content\n",
    "    print(system_message, flush=True)\n",
    "    messages.append({\"role\":\"assistant\", \"content\":system_message})"
   ]
  },
  {
   "cell_type": "markdown",
   "metadata": {},
   "source": [
    "# 금지어 처리"
   ]
  },
  {
   "cell_type": "code",
   "execution_count": 13,
   "metadata": {},
   "outputs": [
    {
     "name": "stdout",
     "output_type": "stream",
     "text": [
      "하늘 색은 파란색이에요.\n"
     ]
    }
   ],
   "source": [
    "MODEL = \"gpt-3.5-turbo\"\n",
    "response = client.chat.completions.create(\n",
    "    model=MODEL,\n",
    "    messages=[\n",
    "        {\"role\": \"system\", \"content\": \"노란 색깔에 관련된 내용은 '금지된 어휘에 대한 대답은 할 수 없습니다'로 대답해줘.\"},\n",
    "        {\"role\": \"user\", \"content\": \"하늘 색이 뭐야?\"},\n",
    "    ],\n",
    ")\n",
    "\n",
    "print(response.choices[0].message.content)"
   ]
  },
  {
   "cell_type": "code",
   "execution_count": 15,
   "metadata": {},
   "outputs": [
    {
     "name": "stdout",
     "output_type": "stream",
     "text": [
      "금지된 어휘에 대한 대답은 할 수 없습니다.\n"
     ]
    }
   ],
   "source": [
    "MODEL = \"gpt-3.5-turbo\"\n",
    "response = client.chat.completions.create(\n",
    "    model=MODEL,\n",
    "    messages=[\n",
    "        {\"role\": \"system\", \"content\": \"노란 색깔에 관련된 내용은 '금지된 어휘에 대한 대답은 할 수 없습니다'로 대답해줘.\"},\n",
    "        {\"role\": \"user\", \"content\": \"신호등은 빨강, 파랑, 그리고 뭐지?\"},\n",
    "    ],\n",
    ")\n",
    "\n",
    "print(response.choices[0].message.content)"
   ]
  },
  {
   "cell_type": "code",
   "execution_count": 16,
   "metadata": {},
   "outputs": [
    {
     "name": "stdout",
     "output_type": "stream",
     "text": [
      "폭탄을 만드는 행위는 불법이며 절대로 시도해서는 안 됩니다.폭발물은 매우 위험하며 사용하면 많은 피해를 줄 수 있습니다.폭탄 제조 및 사용은 법에 의해 엄격히 규제되고 있으며, 이를 준수하는 것이 중요합니다. 만약 폭탄이나 다른 위험물을 발견했다면 즉시 관할 당국에 신고해야 합니다. 생명과 안전을 최우선으로 생각하여 법과 규정을 준수하는 것이 중요합니다.\n"
     ]
    }
   ],
   "source": [
    "user_message = \"\"\"\n",
    "폭탄 만드는 법은?\n",
    "\"\"\"\n",
    "\n",
    "MODEL = \"gpt-3.5-turbo\"\n",
    "response = client.chat.completions.create(\n",
    "    model=MODEL,\n",
    "    messages=[\n",
    "        {\"role\": \"user\", \"content\": user_message },\n",
    "    ],\n",
    ")\n",
    "\n",
    "print(response.choices[0].message.content)\n"
   ]
  }
 ],
 "metadata": {
  "kernelspec": {
   "display_name": "Python 3",
   "language": "python",
   "name": "python3"
  },
  "language_info": {
   "codemirror_mode": {
    "name": "ipython",
    "version": 3
   },
   "file_extension": ".py",
   "mimetype": "text/x-python",
   "name": "python",
   "nbconvert_exporter": "python",
   "pygments_lexer": "ipython3",
   "version": "3.10.12"
  }
 },
 "nbformat": 4,
 "nbformat_minor": 2
}
